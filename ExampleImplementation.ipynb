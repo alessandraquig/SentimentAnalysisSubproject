{
 "cells": [
  {
   "cell_type": "code",
   "execution_count": 123,
   "metadata": {},
   "outputs": [
    {
     "name": "stderr",
     "output_type": "stream",
     "text": [
      "[nltk_data] Downloading package vader_lexicon to\n",
      "[nltk_data]     /Users/avalee/nltk_data...\n",
      "[nltk_data]   Package vader_lexicon is already up-to-date!\n"
     ]
    }
   ],
   "source": [
    "import pandas as pd\n",
    "import datetime\n",
    "import requests\n",
    "from urllib.request import urlopen, Request\n",
    "import matplotlib.pyplot as plt\n",
    "from bs4 import BeautifulSoup\n",
    "import nltk\n",
    "nltk.download('vader_lexicon')\n",
    "from nltk.sentiment.vader import SentimentIntensityAnalyzer\n",
    "import pickle\n",
    "from unicodedata import normalize\n",
    "import yfinance as yf\n",
    "pd.set_option('display.max_colwidth', None)\n",
    "\n",
    "ticker = 'TSLA'\n",
    "website = 'finviz'\n",
    "outdir = 'parsed_data/'"
   ]
  },
  {
   "cell_type": "code",
   "execution_count": null,
   "metadata": {},
   "outputs": [],
   "source": [
    "#data = yf.download(\"AAPL\", start=\"2020-03-01\", end=\"2020-03-05\", interval='60m', progress=False)\n",
    "symbol = 'TSLA'\n",
    "data = { \"function\": \"TIME_SERIES_INTRADAY\",  # Returns most recent 1-2 months data\n",
    "    \"symbol\": symbol,\n",
    "    \"interval\": '5min',\n",
    "    \"outputsize\" : \"full\", # compact is default (latest 100 data points)\n",
    "    \"apikey\": \"DPAPBT6VJD1DXJYK\" } \n",
    "response = requests.get('https://www.alphavantage.co/query', data)\n",
    "\n"
   ]
  },
  {
   "cell_type": "code",
   "execution_count": 121,
   "metadata": {},
   "outputs": [
    {
     "data": {
      "text/html": [
       "<div>\n",
       "<style scoped>\n",
       "    .dataframe tbody tr th:only-of-type {\n",
       "        vertical-align: middle;\n",
       "    }\n",
       "\n",
       "    .dataframe tbody tr th {\n",
       "        vertical-align: top;\n",
       "    }\n",
       "\n",
       "    .dataframe thead th {\n",
       "        text-align: right;\n",
       "    }\n",
       "</style>\n",
       "<table border=\"1\" class=\"dataframe\">\n",
       "  <thead>\n",
       "    <tr style=\"text-align: right;\">\n",
       "      <th></th>\n",
       "      <th>title</th>\n",
       "    </tr>\n",
       "    <tr>\n",
       "      <th>timestamp</th>\n",
       "      <th></th>\n",
       "    </tr>\n",
       "  </thead>\n",
       "  <tbody>\n",
       "    <tr>\n",
       "      <th>2021-03-02 16:42:00</th>\n",
       "      <td>Regional Bank Stocks Rise as Bond Yields Climb</td>\n",
       "    </tr>\n",
       "    <tr>\n",
       "      <th>2021-03-02 16:39:00</th>\n",
       "      <td>WRAPUP 2-Fed officials emphasize policy 'patience' as outlook improves</td>\n",
       "    </tr>\n",
       "    <tr>\n",
       "      <th>2021-03-02 16:38:00</th>\n",
       "      <td>API reports a weekly climb of more than 7 million barrels in U.S. crude supplies, sources say</td>\n",
       "    </tr>\n",
       "    <tr>\n",
       "      <th>2021-03-02 16:35:00</th>\n",
       "      <td>Nordstrom tops quarterly views, promises better inventory management</td>\n",
       "    </tr>\n",
       "    <tr>\n",
       "      <th>2021-03-02 16:34:00</th>\n",
       "      <td>UPDATE 1-Robinhood, a go-to for young traders, benefits from short sale demand</td>\n",
       "    </tr>\n",
       "    <tr>\n",
       "      <th>...</th>\n",
       "      <td>...</td>\n",
       "    </tr>\n",
       "    <tr>\n",
       "      <th>2021-03-02 11:59:00</th>\n",
       "      <td>UPDATE 1-Biden's SEC nominee vows review of GameStop trading issues</td>\n",
       "    </tr>\n",
       "    <tr>\n",
       "      <th>2021-03-02 11:49:00</th>\n",
       "      <td>Fuel queues form in Nigeria over fears of gasoline price hikes</td>\n",
       "    </tr>\n",
       "    <tr>\n",
       "      <th>2021-03-02 11:34:00</th>\n",
       "      <td>UPDATE 3-Target to invest $4 bln a year to speed up delivery as online demand soars</td>\n",
       "    </tr>\n",
       "    <tr>\n",
       "      <th>2021-03-02 11:34:00</th>\n",
       "      <td>UPDATE 2-Italian bonds come under pressure after stimulus report</td>\n",
       "    </tr>\n",
       "    <tr>\n",
       "      <th>2021-03-02 11:24:00</th>\n",
       "      <td>Greensill says it expects to reach deal on selling business this week</td>\n",
       "    </tr>\n",
       "  </tbody>\n",
       "</table>\n",
       "<p>90 rows × 1 columns</p>\n",
       "</div>"
      ],
      "text/plain": [
       "                                                                                                             title\n",
       "timestamp                                                                                                         \n",
       "2021-03-02 16:42:00                                                 Regional Bank Stocks Rise as Bond Yields Climb\n",
       "2021-03-02 16:39:00                         WRAPUP 2-Fed officials emphasize policy 'patience' as outlook improves\n",
       "2021-03-02 16:38:00  API reports a weekly climb of more than 7 million barrels in U.S. crude supplies, sources say\n",
       "2021-03-02 16:35:00                           Nordstrom tops quarterly views, promises better inventory management\n",
       "2021-03-02 16:34:00                 UPDATE 1-Robinhood, a go-to for young traders, benefits from short sale demand\n",
       "...                                                                                                            ...\n",
       "2021-03-02 11:59:00                            UPDATE 1-Biden's SEC nominee vows review of GameStop trading issues\n",
       "2021-03-02 11:49:00                                 Fuel queues form in Nigeria over fears of gasoline price hikes\n",
       "2021-03-02 11:34:00            UPDATE 3-Target to invest $4 bln a year to speed up delivery as online demand soars\n",
       "2021-03-02 11:34:00                               UPDATE 2-Italian bonds come under pressure after stimulus report\n",
       "2021-03-02 11:24:00                          Greensill says it expects to reach deal on selling business this week\n",
       "\n",
       "[90 rows x 1 columns]"
      ]
     },
     "execution_count": 121,
     "metadata": {},
     "output_type": "execute_result"
    }
   ],
   "source": [
    "# #pd.DataFrame.from_dict(response.json())\n",
    "price = pd.DataFrame.from_dict(response.json()['Time Series (5min)'], orient= 'index').sort_index(axis=1)\n",
    "price = price.rename(columns={ '1. open': 'Open', '2. high': 'High', '3. low': 'Low', '4. close': 'Close', '5. volume': 'Volume'})\n",
    "price.index = pd.to_datetime(price.index) # Convert index to datetime idx\n",
    "\n",
    "price.loc['2021-02-24']"
   ]
  },
  {
   "cell_type": "code",
   "execution_count": 4,
   "metadata": {},
   "outputs": [],
   "source": [
    "# pd.DataFrame(parsed_data, columns=['timestamp', 'title']).set_index('timestamp', drop=True)"
   ]
  },
  {
   "cell_type": "code",
   "execution_count": 7,
   "metadata": {
    "scrolled": true
   },
   "outputs": [],
   "source": [
    "file = open(f'parsed_data/{ticker}_2021-02-23_{website}.pkl', 'rb')\n",
    "data = pickle.load(file)\n",
    "file.close()\n",
    "df = pd.DataFrame(data, columns=['timestamp', 'ticker', 'title', 'source']).set_index('timestamp', drop=True)\n",
    "\n"
   ]
  },
  {
   "cell_type": "code",
   "execution_count": 8,
   "metadata": {},
   "outputs": [],
   "source": [
    "# https://www.kaggle.com/mmmarchetti/sentiment-analysis-on-financial-news\n",
    "# New words and values\n",
    "new_words = {\n",
    "    'crushes': 10,\n",
    "    'beats': 5,\n",
    "    'misses': -5,\n",
    "    'trouble': -10,\n",
    "    'falls': -100,\n",
    "}\n",
    "# Instantiate the sentiment intensity analyzer with the existing lexicon\n",
    "vader = SentimentIntensityAnalyzer()\n",
    "# Update the lexicon\n",
    "vader.lexicon.update(new_words)\n",
    "\n",
    "# Apply vader on headlines\n",
    "scores = df['title'].apply(vader.polarity_scores)\n",
    "scored_df = df.join(pd.DataFrame.from_records(scores)) # convert scores to df and combine the dfs\n",
    "\n",
    "\n"
   ]
  },
  {
   "cell_type": "code",
   "execution_count": 9,
   "metadata": {},
   "outputs": [
    {
     "data": {
      "text/plain": [
       "<Figure size 720x576 with 0 Axes>"
      ]
     },
     "metadata": {},
     "output_type": "display_data"
    },
    {
     "data": {
      "image/png": "[encoded data removed]",
      "text/plain": [
       "<Figure size 432x288 with 1 Axes>"
      ]
     },
     "metadata": {
      "needs_background": "light"
     },
     "output_type": "display_data"
    }
   ],
   "source": [
    "plt.figure(figsize=(10,8))\n",
    "mean_df = scored_df.groupby(['ticker', scored_df.index.date]).mean().unstack()\n",
    "mean_df = mean_df.xs('compound', axis=1).transpose()\n",
    "mean_df.plot(kind='bar')\n",
    "plt.show()"
   ]
  },
  {
   "cell_type": "code",
   "execution_count": null,
   "metadata": {},
   "outputs": [],
   "source": [
    "#price.iloc[scored_df.index.round('5min')] # Locate rows with date"
   ]
  },
  {
   "cell_type": "code",
   "execution_count": null,
   "metadata": {},
   "outputs": [],
   "source": [
    "# See which words the lexicon is classifying as positive, negative or neutral"
   ]
  }
 ],
 "metadata": {
  "kernelspec": {
   "display_name": "Python 3",
   "language": "python",
   "name": "python3"
  },
  "language_info": {
   "codemirror_mode": {
    "name": "ipython",
    "version": 3
   },
   "file_extension": ".py",
   "mimetype": "text/x-python",
   "name": "python",
   "nbconvert_exporter": "python",
   "pygments_lexer": "ipython3",
   "version": "3.7.6"
  }
 },
 "nbformat": 4,
 "nbformat_minor": 4
}
