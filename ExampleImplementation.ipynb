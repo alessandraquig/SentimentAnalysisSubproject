{
 "cells": [
  {
   "cell_type": "code",
   "execution_count": 8,
   "metadata": {},
   "outputs": [],
   "source": [
    "import datetime\n",
    "import requests\n",
    "import pandas as pd\n",
    "import io\n",
    "import constants # API keys\n",
    "\n",
    "ticker = 'CCL'\n",
    "website = 'finviz'\n",
    "outdir = 'parsed_data/'\n",
    "date_from = '2020-01-01'\n",
    "date_to = '2021-03-05'"
   ]
  },
  {
   "cell_type": "markdown",
   "metadata": {},
   "source": [
    "# News sentiment\n",
    "response = requests.get(f'https://finnhub.io/api/v1/news-sentiment?symbol={ticker}&token={constants.FINNHUB_KEY}')\n",
    "response.json()\n",
    "file = open('news_sentiment.pkl', 'wb')\n",
    "pickle.dump(response.json()['buzz'], file)\n",
    "file.close()"
   ]
  }
 ],
 "metadata": {
  "kernelspec": {
   "display_name": "Python 3",
   "language": "python",
   "name": "python3"
  },
  "language_info": {
   "codemirror_mode": {
    "name": "ipython",
    "version": 3
   },
   "file_extension": ".py",
   "mimetype": "text/x-python",
   "name": "python",
   "nbconvert_exporter": "python",
   "pygments_lexer": "ipython3",
   "version": "3.7.6"
  }
 },
 "nbformat": 4,
 "nbformat_minor": 4
}
